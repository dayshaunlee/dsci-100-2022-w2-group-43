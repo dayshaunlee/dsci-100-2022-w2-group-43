{
 "cells": [
  {
   "cell_type": "markdown",
   "id": "ea8b45a3-2f7a-4604-bc82-6b55c98313cc",
   "metadata": {},
   "source": [
    "# Title"
   ]
  },
  {
   "cell_type": "markdown",
   "id": "01c216de-459f-4865-b93b-57dda69e56fa",
   "metadata": {},
   "source": [
    "# Introduction: "
   ]
  },
  {
   "cell_type": "markdown",
   "id": "1719990b-e861-4b99-948d-b1421eef60c5",
   "metadata": {},
   "source": [
    "# Preliminary exploratory data analysis: "
   ]
  },
  {
   "cell_type": "markdown",
   "id": "38e04164-44d6-4d45-9d2a-99d40ccbaba3",
   "metadata": {},
   "source": [
    "# Methods: "
   ]
  },
  {
   "cell_type": "markdown",
   "id": "b9849e2f-2fd2-4e8d-a1c4-315d3d9070cc",
   "metadata": {},
   "source": [
    "# Expected outcomes and significance:"
   ]
  },
  {
   "cell_type": "code",
   "execution_count": null,
   "id": "0e99b9a3-8d3b-4188-ac15-a88c8d7e8498",
   "metadata": {},
   "outputs": [],
   "source": []
  }
 ],
 "metadata": {
  "kernelspec": {
   "display_name": "R",
   "language": "R",
   "name": "ir"
  },
  "language_info": {
   "codemirror_mode": "r",
   "file_extension": ".r",
   "mimetype": "text/x-r-source",
   "name": "R",
   "pygments_lexer": "r",
   "version": "4.1.3"
  }
 },
 "nbformat": 4,
 "nbformat_minor": 5
}
